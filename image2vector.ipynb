{
 "cells": [
  {
   "cell_type": "code",
   "execution_count": 1,
   "metadata": {},
   "outputs": [],
   "source": [
    "# GRADED FUNCTION: image2vector\n",
    "def image2vector(image):\n",
    "    \"\"\"\n",
    "    Argument:\n",
    "    image -- a numpy array of shape (length, height, depth)\n",
    "\n",
    "    Returns:\n",
    "    v -- a vector of shape (length*height*depth, 1)\n",
    "    \"\"\"\n",
    "\n",
    "    ### START CODE HERE ### (≈ 1 line of code)\n",
    "    v = image.reshape(image.shape[0] * image.shape[1] * image.shape[2], 1); \n",
    "    ### END CODE HERE ###\n",
    "\n",
    "    return v;"
   ]
  },
  {
   "cell_type": "code",
   "execution_count": 2,
   "metadata": {},
   "outputs": [
    {
     "data": {
      "text/plain": [
       "array([[0.63967874],\n",
       "       [0.60457671],\n",
       "       [0.91115534],\n",
       "       [0.99041494],\n",
       "       [0.24927585],\n",
       "       [0.72840117],\n",
       "       [0.16785687],\n",
       "       [0.10694344],\n",
       "       [0.10811087],\n",
       "       [0.35533479],\n",
       "       [0.22931838],\n",
       "       [0.45595769],\n",
       "       [0.86600912],\n",
       "       [0.26886965],\n",
       "       [0.21767818],\n",
       "       [0.37857771],\n",
       "       [0.37146414],\n",
       "       [0.77334413],\n",
       "       [0.05420824],\n",
       "       [0.56676869],\n",
       "       [0.52778705],\n",
       "       [0.48118129],\n",
       "       [0.35881187],\n",
       "       [0.37571932],\n",
       "       [0.19018194],\n",
       "       [0.87344174],\n",
       "       [0.9053194 ]])"
      ]
     },
     "execution_count": 2,
     "metadata": {},
     "output_type": "execute_result"
    }
   ],
   "source": [
    "import numpy as np;\n",
    "image = np.random.rand(3,3,3);\n",
    "image2vector(image)"
   ]
  },
  {
   "cell_type": "code",
   "execution_count": null,
   "metadata": {},
   "outputs": [],
   "source": []
  }
 ],
 "metadata": {
  "kernelspec": {
   "display_name": "Python",
   "language": "python",
   "name": "conda-env-python-py"
  },
  "language_info": {
   "codemirror_mode": {
    "name": "ipython",
    "version": 3
   },
   "file_extension": ".py",
   "mimetype": "text/x-python",
   "name": "python",
   "nbconvert_exporter": "python",
   "pygments_lexer": "ipython3",
   "version": "3.6.10"
  }
 },
 "nbformat": 4,
 "nbformat_minor": 4
}
