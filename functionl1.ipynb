{
 "cells": [
  {
   "cell_type": "code",
   "execution_count": 6,
   "metadata": {},
   "outputs": [
    {
     "name": "stdout",
     "output_type": "stream",
     "text": [
      "[[ 0.50407126  0.7371299   0.45407559  0.92344676 -0.32826045]]\n",
      "L1 = 3.091947907468593\n"
     ]
    }
   ],
   "source": [
    "# GRADED FUNCTION: L1\n",
    "import numpy as np;\n",
    "def L1(yhat, y):\n",
    "    \"\"\"\n",
    "    Arguments:\n",
    "    yhat -- vector of size m (predicted labels)\n",
    "    y -- vector of size m (true labels)\n",
    "\n",
    "    Returns:\n",
    "    loss -- the value of the L1 loss function defined above\n",
    "    \"\"\"\n",
    "\n",
    "    ### START CODE HERE ### (≈ 1 line of code)\n",
    "    loss = np.sum(np.abs(y - yhat));\n",
    "    ### END CODE HERE ###\n",
    "\n",
    "    return loss;\n",
    "yhat = np.random.randn(1,5);\n",
    "print(yhat);\n",
    "y = np.array([1, 0, 0, 1, 1]);\n",
    "print(\"L1 = \" + str(L1(yhat,y)));"
   ]
  }
 ],
 "metadata": {
  "kernelspec": {
   "display_name": "Python",
   "language": "python",
   "name": "conda-env-python-py"
  },
  "language_info": {
   "codemirror_mode": {
    "name": "ipython",
    "version": 3
   },
   "file_extension": ".py",
   "mimetype": "text/x-python",
   "name": "python",
   "nbconvert_exporter": "python",
   "pygments_lexer": "ipython3",
   "version": "3.6.10"
  }
 },
 "nbformat": 4,
 "nbformat_minor": 4
}
